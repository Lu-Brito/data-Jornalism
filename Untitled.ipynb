{
  "nbformat": 4,
  "nbformat_minor": 0,
  "metadata": {
    "colab": {
      "name": "Untitled",
      "version": "0.3.2",
      "provenance": [],
      "include_colab_link": true
    },
    "kernelspec": {
      "name": "python3",
      "display_name": "Python 3"
    }
  },
  "cells": [
    {
      "cell_type": "markdown",
      "metadata": {
        "id": "view-in-github",
        "colab_type": "text"
      },
      "source": [
        "<a href=\"https://colab.research.google.com/github/Lu-Brito/data-Jornalism/blob/master/Untitled.ipynb\" target=\"_parent\"><img src=\"https://colab.research.google.com/assets/colab-badge.svg\" alt=\"Open In Colab\"/></a>"
      ]
    },
    {
      "cell_type": "markdown",
      "metadata": {
        "id": "-tKvdlIYlFC7",
        "colab_type": "text"
      },
      "source": [
        "**Web Scraping with Beautiful Soup**\n"
      ]
    },
    {
      "cell_type": "code",
      "metadata": {
        "id": "kgHVxOafk5eQ",
        "colab_type": "code",
        "colab": {}
      },
      "source": [
        "import requests\n",
        "# importação feita logo após o código webpage = webpage_response.content\n",
        "from bs4 import BeautifulSoup\n",
        "import pandas as pd"
      ],
      "execution_count": 0,
      "outputs": []
    },
    {
      "cell_type": "code",
      "metadata": {
        "id": "vDbDNnHRk_VS",
        "colab_type": "code",
        "outputId": "9756a0b4-1223-46b6-8ea3-22b3d53fe08f",
        "colab": {
          "base_uri": "https://localhost:8080/",
          "height": 1210
        }
      },
      "source": [
        "prefix = \"https://s3.amazonaws.com/codecademy-content/courses/beautifulsoup/\"\n",
        "webpage_response = requests.get('https://s3.amazonaws.com/codecademy-content/courses/beautifulsoup/shellter.html')\n",
        "print(webpage_response.text)\n",
        "webpage = webpage_response.content\n",
        "print(webpage) "
      ],
      "execution_count": 0,
      "outputs": [
        {
          "output_type": "stream",
          "text": [
            "<!DOCTYPE html>\n",
            "<html>\n",
            "  <head>\n",
            "    <meta charset=\"utf-8\">\n",
            "    <title>Turtle Shellter</title>\n",
            "      <link href=\"https://fonts.googleapis.com/css?family=Poppins\" rel=\"stylesheet\">\n",
            "      <link rel='stylesheet' type='text/css' href='style.css'>\n",
            "  </head>\n",
            "\n",
            "  <body>\n",
            "      <div class=\"banner\">\n",
            "        <h1>The Shellter</h1>\n",
            "        <span class=\"brag\">The #1 Turtle Adoption website!</span>\n",
            "      </div>\n",
            "\n",
            "      <div class=\"about\">\n",
            "        <p class=\"text\">Click to learn more about each turtle</p>\n",
            "      </div>\n",
            "\n",
            "    <div class=\"grid\">\n",
            "      <div class=\"box adopt\">\n",
            "          <a href=\"aesop.html\" class=\"more-info\"><img src=\"aesop.png\" class=\"headshot\"></a>\n",
            "          <p>Aesop</p>\n",
            "      </div>\n",
            "\n",
            "      <div class=\"box adopt\">\n",
            "          <a href=\"caesar.html\" class=\"more-info\"><img src=\"caesar.png\" class=\"headshot\"></a>\n",
            "          <p>Caesar</p>\n",
            "      </div>\n",
            "\n",
            "      <div class=\"box adopt\">\n",
            "          <a href=\"sulla.html\" class=\"more-info\"><img src=\"sulla.png\" class=\"headshot\"></a>\n",
            "          <p>Sulla</p>\n",
            "      </div>\n",
            "      <div class=\"box adopt\">\n",
            "          <a href=\"spyro.html\" class=\"more-info\"><img src=\"spyro.png\" class=\"headshot\"></a>\n",
            "          <p>Spyro</p>\n",
            "      </div>\n",
            "\n",
            "      <div class=\"box adopt\">\n",
            "          <a href=\"zelda.html\" class=\"more-info\"><img src=\"zelda.png\" class=\"headshot\"></a>\n",
            "          <p>Zelda</p>\n",
            "      </div>\n",
            "\n",
            "      <div class=\"box adopt\">\n",
            "          <a href=\"bandicoot.html\" class=\"more-info\"><img src=\"bandicoot.png\" class=\"headshot\"></a>\n",
            "          <p>Bandicoot</p>\n",
            "      </div>\n",
            "      \n",
            "      <div class=\"box adopt\">\n",
            "          <a href=\"hal.html\" class=\"more-info\"><img src=\"hal.png\" class=\"headshot\"></a>\n",
            "          <p>Hal</p>\n",
            "      </div>\n",
            "\n",
            "      <div class=\"box adopt\">\n",
            "          <a href=\"mock.html\" class=\"more-info\"><img src=\"mock.png\" class=\"headshot\"></a>\n",
            "          <p>Mock</p>\n",
            "      </div>\n",
            "\n",
            "      <div class=\"box adopt\">\n",
            "          <a href=\"sparrow.html\" class=\"more-info\"><img src=\"sparrow.png\" class=\"headshot\"></a>\n",
            "          <p>Captain Sparrow</p>\n",
            "      </div>\n",
            "    </div>\n",
            "  </body>\n",
            "\n",
            "</html>\n",
            "\n",
            "b'<!DOCTYPE html>\\n<html>\\n  <head>\\n    <meta charset=\"utf-8\">\\n    <title>Turtle Shellter</title>\\n      <link href=\"https://fonts.googleapis.com/css?family=Poppins\" rel=\"stylesheet\">\\n      <link rel=\\'stylesheet\\' type=\\'text/css\\' href=\\'style.css\\'>\\n  </head>\\n\\n  <body>\\n      <div class=\"banner\">\\n        <h1>The Shellter</h1>\\n        <span class=\"brag\">The #1 Turtle Adoption website!</span>\\n      </div>\\n\\n      <div class=\"about\">\\n        <p class=\"text\">Click to learn more about each turtle</p>\\n      </div>\\n\\n    <div class=\"grid\">\\n      <div class=\"box adopt\">\\n          <a href=\"aesop.html\" class=\"more-info\"><img src=\"aesop.png\" class=\"headshot\"></a>\\n          <p>Aesop</p>\\n      </div>\\n\\n      <div class=\"box adopt\">\\n          <a href=\"caesar.html\" class=\"more-info\"><img src=\"caesar.png\" class=\"headshot\"></a>\\n          <p>Caesar</p>\\n      </div>\\n\\n      <div class=\"box adopt\">\\n          <a href=\"sulla.html\" class=\"more-info\"><img src=\"sulla.png\" class=\"headshot\"></a>\\n          <p>Sulla</p>\\n      </div>\\n      <div class=\"box adopt\">\\n          <a href=\"spyro.html\" class=\"more-info\"><img src=\"spyro.png\" class=\"headshot\"></a>\\n          <p>Spyro</p>\\n      </div>\\n\\n      <div class=\"box adopt\">\\n          <a href=\"zelda.html\" class=\"more-info\"><img src=\"zelda.png\" class=\"headshot\"></a>\\n          <p>Zelda</p>\\n      </div>\\n\\n      <div class=\"box adopt\">\\n          <a href=\"bandicoot.html\" class=\"more-info\"><img src=\"bandicoot.png\" class=\"headshot\"></a>\\n          <p>Bandicoot</p>\\n      </div>\\n      \\n      <div class=\"box adopt\">\\n          <a href=\"hal.html\" class=\"more-info\"><img src=\"hal.png\" class=\"headshot\"></a>\\n          <p>Hal</p>\\n      </div>\\n\\n      <div class=\"box adopt\">\\n          <a href=\"mock.html\" class=\"more-info\"><img src=\"mock.png\" class=\"headshot\"></a>\\n          <p>Mock</p>\\n      </div>\\n\\n      <div class=\"box adopt\">\\n          <a href=\"sparrow.html\" class=\"more-info\"><img src=\"sparrow.png\" class=\"headshot\"></a>\\n          <p>Captain Sparrow</p>\\n      </div>\\n    </div>\\n  </body>\\n\\n</html>\\n'\n"
          ],
          "name": "stdout"
        }
      ]
    },
    {
      "cell_type": "markdown",
      "metadata": {
        "id": "t7-3UFHZl_UC",
        "colab_type": "text"
      },
      "source": [
        "When we printed out all of that HTML from our request, it seemed pretty long and messy. How could we pull out the relevant information from that long string?\n",
        "\n",
        "Then, all we have to do is convert the HTML document to a BeautifulSoup object!\n",
        "\n",
        "\"html.parser\" is one option for parsers we could use. There are other options, like \"lxml\" and \"html5lib\" that have different advantages and disadvantages, but for our purposes we will be using \"html.parser\" throughout.\n",
        "\n",
        "With the requests skills we just learned, we can use a website hosted online as that HTML:"
      ]
    },
    {
      "cell_type": "code",
      "metadata": {
        "id": "PN80pZPvmCtN",
        "colab_type": "code",
        "outputId": "3d5b1470-e396-474c-fa05-61d714f9a488",
        "colab": {
          "base_uri": "https://localhost:8080/",
          "height": 1003
        }
      },
      "source": [
        "# cria um objeto chamado soup\n",
        "soup = BeautifulSoup(webpage, \"html.parser\")\n",
        "\n",
        "print(soup)"
      ],
      "execution_count": 0,
      "outputs": [
        {
          "output_type": "stream",
          "text": [
            "<!DOCTYPE html>\n",
            "\n",
            "<html>\n",
            "<head>\n",
            "<meta charset=\"utf-8\"/>\n",
            "<title>Turtle Shellter</title>\n",
            "<link href=\"https://fonts.googleapis.com/css?family=Poppins\" rel=\"stylesheet\"/>\n",
            "<link href=\"style.css\" rel=\"stylesheet\" type=\"text/css\"/>\n",
            "</head>\n",
            "<body>\n",
            "<div class=\"banner\">\n",
            "<h1>The Shellter</h1>\n",
            "<span class=\"brag\">The #1 Turtle Adoption website!</span>\n",
            "</div>\n",
            "<div class=\"about\">\n",
            "<p class=\"text\">Click to learn more about each turtle</p>\n",
            "</div>\n",
            "<div class=\"grid\">\n",
            "<div class=\"box adopt\">\n",
            "<a class=\"more-info\" href=\"aesop.html\"><img class=\"headshot\" src=\"aesop.png\"/></a>\n",
            "<p>Aesop</p>\n",
            "</div>\n",
            "<div class=\"box adopt\">\n",
            "<a class=\"more-info\" href=\"caesar.html\"><img class=\"headshot\" src=\"caesar.png\"/></a>\n",
            "<p>Caesar</p>\n",
            "</div>\n",
            "<div class=\"box adopt\">\n",
            "<a class=\"more-info\" href=\"sulla.html\"><img class=\"headshot\" src=\"sulla.png\"/></a>\n",
            "<p>Sulla</p>\n",
            "</div>\n",
            "<div class=\"box adopt\">\n",
            "<a class=\"more-info\" href=\"spyro.html\"><img class=\"headshot\" src=\"spyro.png\"/></a>\n",
            "<p>Spyro</p>\n",
            "</div>\n",
            "<div class=\"box adopt\">\n",
            "<a class=\"more-info\" href=\"zelda.html\"><img class=\"headshot\" src=\"zelda.png\"/></a>\n",
            "<p>Zelda</p>\n",
            "</div>\n",
            "<div class=\"box adopt\">\n",
            "<a class=\"more-info\" href=\"bandicoot.html\"><img class=\"headshot\" src=\"bandicoot.png\"/></a>\n",
            "<p>Bandicoot</p>\n",
            "</div>\n",
            "<div class=\"box adopt\">\n",
            "<a class=\"more-info\" href=\"hal.html\"><img class=\"headshot\" src=\"hal.png\"/></a>\n",
            "<p>Hal</p>\n",
            "</div>\n",
            "<div class=\"box adopt\">\n",
            "<a class=\"more-info\" href=\"mock.html\"><img class=\"headshot\" src=\"mock.png\"/></a>\n",
            "<p>Mock</p>\n",
            "</div>\n",
            "<div class=\"box adopt\">\n",
            "<a class=\"more-info\" href=\"sparrow.html\"><img class=\"headshot\" src=\"sparrow.png\"/></a>\n",
            "<p>Captain Sparrow</p>\n",
            "</div>\n",
            "</div>\n",
            "</body>\n",
            "</html>\n",
            "\n"
          ],
          "name": "stdout"
        }
      ]
    },
    {
      "cell_type": "code",
      "metadata": {
        "id": "U29Dg4bXo2B4",
        "colab_type": "code",
        "outputId": "ac94965d-2143-4270-b8bf-57b311b26474",
        "colab": {
          "base_uri": "https://localhost:8080/",
          "height": 51
        }
      },
      "source": [
        "print(soup.p)\n",
        "print(soup.p.string)\n",
        "\n"
      ],
      "execution_count": 0,
      "outputs": [
        {
          "output_type": "stream",
          "text": [
            "<p class=\"text\">Click to learn more about each turtle</p>\n",
            "Click to learn more about each turtle\n"
          ],
          "name": "stdout"
        }
      ]
    },
    {
      "cell_type": "code",
      "metadata": {
        "id": "5jmeW3rQlYbo",
        "colab_type": "code",
        "outputId": "15d20263-cfb0-4139-be4f-b2fa57877150",
        "colab": {
          "base_uri": "https://localhost:8080/",
          "height": 85
        }
      },
      "source": [
        "# para navegar sobre cada uma das tags da página, você precisa printar como print(object.tag)\n",
        "\n",
        "print(soup.div)"
      ],
      "execution_count": 0,
      "outputs": [
        {
          "output_type": "stream",
          "text": [
            "<div class=\"banner\">\n",
            "<h1>The Shellter</h1>\n",
            "<span class=\"brag\">The #1 Turtle Adoption website!</span>\n",
            "</div>\n"
          ],
          "name": "stdout"
        }
      ]
    },
    {
      "cell_type": "markdown",
      "metadata": {
        "id": "n1pYvQI6xrQ_",
        "colab_type": "text"
      },
      "source": [
        "Hora de inspecionar a página para saber o que há nela, antes de fazer o webscraping\n"
      ]
    },
    {
      "cell_type": "code",
      "metadata": {
        "id": "ys27-YcuxxYW",
        "colab_type": "code",
        "outputId": "614ea7e5-898e-4ad1-eac9-0a4657ac4ba7",
        "colab": {
          "base_uri": "https://localhost:8080/",
          "height": 54
        }
      },
      "source": [
        "# usando a função .findall() para encontrar todos os elementos que estão sob a tag <a>\n",
        "turtle_links = soup.find_all(\"a\")\n",
        "print(turtle_links)"
      ],
      "execution_count": 0,
      "outputs": [
        {
          "output_type": "stream",
          "text": [
            "[<a class=\"more-info\" href=\"aesop.html\"><img class=\"headshot\" src=\"aesop.png\"/></a>, <a class=\"more-info\" href=\"caesar.html\"><img class=\"headshot\" src=\"caesar.png\"/></a>, <a class=\"more-info\" href=\"sulla.html\"><img class=\"headshot\" src=\"sulla.png\"/></a>, <a class=\"more-info\" href=\"spyro.html\"><img class=\"headshot\" src=\"spyro.png\"/></a>, <a class=\"more-info\" href=\"zelda.html\"><img class=\"headshot\" src=\"zelda.png\"/></a>, <a class=\"more-info\" href=\"bandicoot.html\"><img class=\"headshot\" src=\"bandicoot.png\"/></a>, <a class=\"more-info\" href=\"hal.html\"><img class=\"headshot\" src=\"hal.png\"/></a>, <a class=\"more-info\" href=\"mock.html\"><img class=\"headshot\" src=\"mock.png\"/></a>, <a class=\"more-info\" href=\"sparrow.html\"><img class=\"headshot\" src=\"sparrow.png\"/></a>]\n"
          ],
          "name": "stdout"
        }
      ]
    },
    {
      "cell_type": "code",
      "metadata": {
        "id": "z_SIFP-g4ili",
        "colab_type": "code",
        "outputId": "9084c360-77fb-468d-d224-ea5ebe387369",
        "colab": {
          "base_uri": "https://localhost:8080/",
          "height": 54
        }
      },
      "source": [
        "# usando a função .select() para selecionar todos os seletores de css\n",
        "links = []\n",
        "#go through all of the a tags and get the links associated with them:\n",
        "for a in turtle_links:\n",
        "  links.append(prefix+a[\"href\"])\n",
        " \n",
        "# Define turtle_data:\n",
        "turtle_data = {}\n",
        "\n",
        "#follow each link:\n",
        "for link in links:\n",
        "  webpage = requests.get(link)\n",
        "  turtle = BeautifulSoup(webpage.content, \"html.parser\")\n",
        "  \n",
        "  turtle_name = turtle.select(\".name\")[0]\n",
        "  turtle_data[turtle_name] = []\n",
        "  \n",
        "print(turtle_data)"
      ],
      "execution_count": 0,
      "outputs": [
        {
          "output_type": "stream",
          "text": [
            "{<p class=\"name\">Aesop</p>: [], <p class=\"name\">Caesar</p>: [], <p class=\"name\">Sulla</p>: [], <p class=\"name\">Spyro</p>: [], <p class=\"name\">Zelda</p>: [], <p class=\"name\">Bandicoot</p>: [], <p class=\"name\">Hal</p>: [], <p class=\"name\">Mock</p>: [], <p class=\"name\">Sparrow</p>: []}\n"
          ],
          "name": "stdout"
        }
      ]
    },
    {
      "cell_type": "code",
      "metadata": {
        "id": "XplIFp4VAjqI",
        "colab_type": "code",
        "outputId": "36bbadb7-d4ee-46fd-d5aa-71b143883c80",
        "colab": {
          "base_uri": "https://localhost:8080/",
          "height": 374
        }
      },
      "source": [
        "# essa parte do código encontra as ul e \n",
        "stats = turtle.find(\"ul\")\n",
        "stats_text = stats.get_text(\"|\")\n",
        "turtle_data[turtle_name] = stats_text.split(\"|\")\n",
        "\n",
        "# usando o .from_dict para transformar o dicionário em um dataframe Pandas\n",
        "\n",
        "turtle_df = pd.DataFrame.from_dict(turtle_data, orient='index')\n",
        "\n",
        "print(turtle_df)"
      ],
      "execution_count": 0,
      "outputs": [
        {
          "output_type": "error",
          "ename": "TypeError",
          "evalue": "ignored",
          "traceback": [
            "\u001b[0;31m---------------------------------------------------------------------------\u001b[0m",
            "\u001b[0;31mTypeError\u001b[0m                                 Traceback (most recent call last)",
            "\u001b[0;32m<ipython-input-39-cc37b04a7846>\u001b[0m in \u001b[0;36m<module>\u001b[0;34m()\u001b[0m\n\u001b[1;32m      5\u001b[0m \u001b[0;31m# usando o .from_dict para transformar o dicionário em um dataframe Pandas\u001b[0m\u001b[0;34m\u001b[0m\u001b[0;34m\u001b[0m\u001b[0;34m\u001b[0m\u001b[0m\n\u001b[1;32m      6\u001b[0m \u001b[0;34m\u001b[0m\u001b[0m\n\u001b[0;32m----> 7\u001b[0;31m \u001b[0mturtle_df\u001b[0m \u001b[0;34m=\u001b[0m \u001b[0mpd\u001b[0m\u001b[0;34m.\u001b[0m\u001b[0mDataFrame\u001b[0m\u001b[0;34m.\u001b[0m\u001b[0mfrom_dict\u001b[0m\u001b[0;34m(\u001b[0m\u001b[0mturtle_data\u001b[0m\u001b[0;34m,\u001b[0m \u001b[0morient\u001b[0m\u001b[0;34m=\u001b[0m\u001b[0;34m'index'\u001b[0m\u001b[0;34m)\u001b[0m\u001b[0;34m\u001b[0m\u001b[0;34m\u001b[0m\u001b[0m\n\u001b[0m\u001b[1;32m      8\u001b[0m \u001b[0;34m\u001b[0m\u001b[0m\n\u001b[1;32m      9\u001b[0m \u001b[0mprint\u001b[0m\u001b[0;34m(\u001b[0m\u001b[0mturtle_df\u001b[0m\u001b[0;34m)\u001b[0m\u001b[0;34m\u001b[0m\u001b[0;34m\u001b[0m\u001b[0m\n",
            "\u001b[0;32m/usr/local/lib/python3.6/dist-packages/pandas/core/frame.py\u001b[0m in \u001b[0;36mfrom_dict\u001b[0;34m(cls, data, orient, dtype, columns)\u001b[0m\n\u001b[1;32m   1136\u001b[0m             \u001b[0;32mraise\u001b[0m \u001b[0mValueError\u001b[0m\u001b[0;34m(\u001b[0m\u001b[0;34m'only recognize index or columns for orient'\u001b[0m\u001b[0;34m)\u001b[0m\u001b[0;34m\u001b[0m\u001b[0;34m\u001b[0m\u001b[0m\n\u001b[1;32m   1137\u001b[0m \u001b[0;34m\u001b[0m\u001b[0m\n\u001b[0;32m-> 1138\u001b[0;31m         \u001b[0;32mreturn\u001b[0m \u001b[0mcls\u001b[0m\u001b[0;34m(\u001b[0m\u001b[0mdata\u001b[0m\u001b[0;34m,\u001b[0m \u001b[0mindex\u001b[0m\u001b[0;34m=\u001b[0m\u001b[0mindex\u001b[0m\u001b[0;34m,\u001b[0m \u001b[0mcolumns\u001b[0m\u001b[0;34m=\u001b[0m\u001b[0mcolumns\u001b[0m\u001b[0;34m,\u001b[0m \u001b[0mdtype\u001b[0m\u001b[0;34m=\u001b[0m\u001b[0mdtype\u001b[0m\u001b[0;34m)\u001b[0m\u001b[0;34m\u001b[0m\u001b[0;34m\u001b[0m\u001b[0m\n\u001b[0m\u001b[1;32m   1139\u001b[0m \u001b[0;34m\u001b[0m\u001b[0m\n\u001b[1;32m   1140\u001b[0m     \u001b[0;32mdef\u001b[0m \u001b[0mto_numpy\u001b[0m\u001b[0;34m(\u001b[0m\u001b[0mself\u001b[0m\u001b[0;34m,\u001b[0m \u001b[0mdtype\u001b[0m\u001b[0;34m=\u001b[0m\u001b[0;32mNone\u001b[0m\u001b[0;34m,\u001b[0m \u001b[0mcopy\u001b[0m\u001b[0;34m=\u001b[0m\u001b[0;32mFalse\u001b[0m\u001b[0;34m)\u001b[0m\u001b[0;34m:\u001b[0m\u001b[0;34m\u001b[0m\u001b[0;34m\u001b[0m\u001b[0m\n",
            "\u001b[0;32m/usr/local/lib/python3.6/dist-packages/pandas/core/frame.py\u001b[0m in \u001b[0;36m__init__\u001b[0;34m(self, data, index, columns, dtype, copy)\u001b[0m\n\u001b[1;32m    446\u001b[0m \u001b[0;34m\u001b[0m\u001b[0m\n\u001b[1;32m    447\u001b[0m                     mgr = arrays_to_mgr(arrays, columns, index, columns,\n\u001b[0;32m--> 448\u001b[0;31m                                         dtype=dtype)\n\u001b[0m\u001b[1;32m    449\u001b[0m                 \u001b[0;32melse\u001b[0m\u001b[0;34m:\u001b[0m\u001b[0;34m\u001b[0m\u001b[0;34m\u001b[0m\u001b[0m\n\u001b[1;32m    450\u001b[0m                     mgr = init_ndarray(data, index, columns, dtype=dtype,\n",
            "\u001b[0;32m/usr/local/lib/python3.6/dist-packages/pandas/core/internals/construction.py\u001b[0m in \u001b[0;36marrays_to_mgr\u001b[0;34m(arrays, arr_names, index, columns, dtype)\u001b[0m\n\u001b[1;32m     51\u001b[0m         \u001b[0mindex\u001b[0m \u001b[0;34m=\u001b[0m \u001b[0mextract_index\u001b[0m\u001b[0;34m(\u001b[0m\u001b[0marrays\u001b[0m\u001b[0;34m)\u001b[0m\u001b[0;34m\u001b[0m\u001b[0;34m\u001b[0m\u001b[0m\n\u001b[1;32m     52\u001b[0m     \u001b[0;32melse\u001b[0m\u001b[0;34m:\u001b[0m\u001b[0;34m\u001b[0m\u001b[0;34m\u001b[0m\u001b[0m\n\u001b[0;32m---> 53\u001b[0;31m         \u001b[0mindex\u001b[0m \u001b[0;34m=\u001b[0m \u001b[0mensure_index\u001b[0m\u001b[0;34m(\u001b[0m\u001b[0mindex\u001b[0m\u001b[0;34m)\u001b[0m\u001b[0;34m\u001b[0m\u001b[0;34m\u001b[0m\u001b[0m\n\u001b[0m\u001b[1;32m     54\u001b[0m \u001b[0;34m\u001b[0m\u001b[0m\n\u001b[1;32m     55\u001b[0m     \u001b[0;31m# don't force copy because getting jammed in an ndarray anyway\u001b[0m\u001b[0;34m\u001b[0m\u001b[0;34m\u001b[0m\u001b[0;34m\u001b[0m\u001b[0m\n",
            "\u001b[0;32m/usr/local/lib/python3.6/dist-packages/pandas/core/indexes/base.py\u001b[0m in \u001b[0;36mensure_index\u001b[0;34m(index_like, copy)\u001b[0m\n\u001b[1;32m   5366\u001b[0m         \u001b[0;32mif\u001b[0m \u001b[0mlen\u001b[0m\u001b[0;34m(\u001b[0m\u001b[0mconverted\u001b[0m\u001b[0;34m)\u001b[0m \u001b[0;34m>\u001b[0m \u001b[0;36m0\u001b[0m \u001b[0;32mand\u001b[0m \u001b[0mall_arrays\u001b[0m\u001b[0;34m:\u001b[0m\u001b[0;34m\u001b[0m\u001b[0;34m\u001b[0m\u001b[0m\n\u001b[1;32m   5367\u001b[0m             \u001b[0;32mfrom\u001b[0m \u001b[0;34m.\u001b[0m\u001b[0mmulti\u001b[0m \u001b[0;32mimport\u001b[0m \u001b[0mMultiIndex\u001b[0m\u001b[0;34m\u001b[0m\u001b[0;34m\u001b[0m\u001b[0m\n\u001b[0;32m-> 5368\u001b[0;31m             \u001b[0;32mreturn\u001b[0m \u001b[0mMultiIndex\u001b[0m\u001b[0;34m.\u001b[0m\u001b[0mfrom_arrays\u001b[0m\u001b[0;34m(\u001b[0m\u001b[0mconverted\u001b[0m\u001b[0;34m)\u001b[0m\u001b[0;34m\u001b[0m\u001b[0;34m\u001b[0m\u001b[0m\n\u001b[0m\u001b[1;32m   5369\u001b[0m         \u001b[0;32melse\u001b[0m\u001b[0;34m:\u001b[0m\u001b[0;34m\u001b[0m\u001b[0;34m\u001b[0m\u001b[0m\n\u001b[1;32m   5370\u001b[0m             \u001b[0mindex_like\u001b[0m \u001b[0;34m=\u001b[0m \u001b[0mconverted\u001b[0m\u001b[0;34m\u001b[0m\u001b[0;34m\u001b[0m\u001b[0m\n",
            "\u001b[0;32m/usr/local/lib/python3.6/dist-packages/pandas/core/indexes/multi.py\u001b[0m in \u001b[0;36mfrom_arrays\u001b[0;34m(cls, arrays, sortorder, names)\u001b[0m\n\u001b[1;32m    338\u001b[0m         \u001b[0;32mfrom\u001b[0m \u001b[0mpandas\u001b[0m\u001b[0;34m.\u001b[0m\u001b[0mcore\u001b[0m\u001b[0;34m.\u001b[0m\u001b[0marrays\u001b[0m\u001b[0;34m.\u001b[0m\u001b[0mcategorical\u001b[0m \u001b[0;32mimport\u001b[0m \u001b[0m_factorize_from_iterables\u001b[0m\u001b[0;34m\u001b[0m\u001b[0;34m\u001b[0m\u001b[0m\n\u001b[1;32m    339\u001b[0m \u001b[0;34m\u001b[0m\u001b[0m\n\u001b[0;32m--> 340\u001b[0;31m         \u001b[0mcodes\u001b[0m\u001b[0;34m,\u001b[0m \u001b[0mlevels\u001b[0m \u001b[0;34m=\u001b[0m \u001b[0m_factorize_from_iterables\u001b[0m\u001b[0;34m(\u001b[0m\u001b[0marrays\u001b[0m\u001b[0;34m)\u001b[0m\u001b[0;34m\u001b[0m\u001b[0;34m\u001b[0m\u001b[0m\n\u001b[0m\u001b[1;32m    341\u001b[0m         \u001b[0;32mif\u001b[0m \u001b[0mnames\u001b[0m \u001b[0;32mis\u001b[0m \u001b[0;32mNone\u001b[0m\u001b[0;34m:\u001b[0m\u001b[0;34m\u001b[0m\u001b[0;34m\u001b[0m\u001b[0m\n\u001b[1;32m    342\u001b[0m             \u001b[0mnames\u001b[0m \u001b[0;34m=\u001b[0m \u001b[0;34m[\u001b[0m\u001b[0mgetattr\u001b[0m\u001b[0;34m(\u001b[0m\u001b[0marr\u001b[0m\u001b[0;34m,\u001b[0m \u001b[0;34m\"name\"\u001b[0m\u001b[0;34m,\u001b[0m \u001b[0;32mNone\u001b[0m\u001b[0;34m)\u001b[0m \u001b[0;32mfor\u001b[0m \u001b[0marr\u001b[0m \u001b[0;32min\u001b[0m \u001b[0marrays\u001b[0m\u001b[0;34m]\u001b[0m\u001b[0;34m\u001b[0m\u001b[0;34m\u001b[0m\u001b[0m\n",
            "\u001b[0;32m/usr/local/lib/python3.6/dist-packages/pandas/core/arrays/categorical.py\u001b[0m in \u001b[0;36m_factorize_from_iterables\u001b[0;34m(iterables)\u001b[0m\n\u001b[1;32m   2706\u001b[0m         \u001b[0;31m# For consistency, it should return a list of 2 lists.\u001b[0m\u001b[0;34m\u001b[0m\u001b[0;34m\u001b[0m\u001b[0;34m\u001b[0m\u001b[0m\n\u001b[1;32m   2707\u001b[0m         \u001b[0;32mreturn\u001b[0m \u001b[0;34m[\u001b[0m\u001b[0;34m[\u001b[0m\u001b[0;34m]\u001b[0m\u001b[0;34m,\u001b[0m \u001b[0;34m[\u001b[0m\u001b[0;34m]\u001b[0m\u001b[0;34m]\u001b[0m\u001b[0;34m\u001b[0m\u001b[0;34m\u001b[0m\u001b[0m\n\u001b[0;32m-> 2708\u001b[0;31m     \u001b[0;32mreturn\u001b[0m \u001b[0mmap\u001b[0m\u001b[0;34m(\u001b[0m\u001b[0mlist\u001b[0m\u001b[0;34m,\u001b[0m \u001b[0mlzip\u001b[0m\u001b[0;34m(\u001b[0m\u001b[0;34m*\u001b[0m\u001b[0;34m[\u001b[0m\u001b[0m_factorize_from_iterable\u001b[0m\u001b[0;34m(\u001b[0m\u001b[0mit\u001b[0m\u001b[0;34m)\u001b[0m \u001b[0;32mfor\u001b[0m \u001b[0mit\u001b[0m \u001b[0;32min\u001b[0m \u001b[0miterables\u001b[0m\u001b[0;34m]\u001b[0m\u001b[0;34m)\u001b[0m\u001b[0;34m)\u001b[0m\u001b[0;34m\u001b[0m\u001b[0;34m\u001b[0m\u001b[0m\n\u001b[0m",
            "\u001b[0;32m/usr/local/lib/python3.6/dist-packages/pandas/core/arrays/categorical.py\u001b[0m in \u001b[0;36m<listcomp>\u001b[0;34m(.0)\u001b[0m\n\u001b[1;32m   2706\u001b[0m         \u001b[0;31m# For consistency, it should return a list of 2 lists.\u001b[0m\u001b[0;34m\u001b[0m\u001b[0;34m\u001b[0m\u001b[0;34m\u001b[0m\u001b[0m\n\u001b[1;32m   2707\u001b[0m         \u001b[0;32mreturn\u001b[0m \u001b[0;34m[\u001b[0m\u001b[0;34m[\u001b[0m\u001b[0;34m]\u001b[0m\u001b[0;34m,\u001b[0m \u001b[0;34m[\u001b[0m\u001b[0;34m]\u001b[0m\u001b[0;34m]\u001b[0m\u001b[0;34m\u001b[0m\u001b[0;34m\u001b[0m\u001b[0m\n\u001b[0;32m-> 2708\u001b[0;31m     \u001b[0;32mreturn\u001b[0m \u001b[0mmap\u001b[0m\u001b[0;34m(\u001b[0m\u001b[0mlist\u001b[0m\u001b[0;34m,\u001b[0m \u001b[0mlzip\u001b[0m\u001b[0;34m(\u001b[0m\u001b[0;34m*\u001b[0m\u001b[0;34m[\u001b[0m\u001b[0m_factorize_from_iterable\u001b[0m\u001b[0;34m(\u001b[0m\u001b[0mit\u001b[0m\u001b[0;34m)\u001b[0m \u001b[0;32mfor\u001b[0m \u001b[0mit\u001b[0m \u001b[0;32min\u001b[0m \u001b[0miterables\u001b[0m\u001b[0;34m]\u001b[0m\u001b[0;34m)\u001b[0m\u001b[0;34m)\u001b[0m\u001b[0;34m\u001b[0m\u001b[0;34m\u001b[0m\u001b[0m\n\u001b[0m",
            "\u001b[0;32m/usr/local/lib/python3.6/dist-packages/pandas/core/arrays/categorical.py\u001b[0m in \u001b[0;36m_factorize_from_iterable\u001b[0;34m(values)\u001b[0m\n\u001b[1;32m   2667\u001b[0m         \u001b[0;32mraise\u001b[0m \u001b[0mTypeError\u001b[0m\u001b[0;34m(\u001b[0m\u001b[0;34m\"Input must be list-like\"\u001b[0m\u001b[0;34m)\u001b[0m\u001b[0;34m\u001b[0m\u001b[0;34m\u001b[0m\u001b[0m\n\u001b[1;32m   2668\u001b[0m \u001b[0;34m\u001b[0m\u001b[0m\n\u001b[0;32m-> 2669\u001b[0;31m     \u001b[0;32mif\u001b[0m \u001b[0mis_categorical\u001b[0m\u001b[0;34m(\u001b[0m\u001b[0mvalues\u001b[0m\u001b[0;34m)\u001b[0m\u001b[0;34m:\u001b[0m\u001b[0;34m\u001b[0m\u001b[0;34m\u001b[0m\u001b[0m\n\u001b[0m\u001b[1;32m   2670\u001b[0m         \u001b[0;32mif\u001b[0m \u001b[0misinstance\u001b[0m\u001b[0;34m(\u001b[0m\u001b[0mvalues\u001b[0m\u001b[0;34m,\u001b[0m \u001b[0;34m(\u001b[0m\u001b[0mABCCategoricalIndex\u001b[0m\u001b[0;34m,\u001b[0m \u001b[0mABCSeries\u001b[0m\u001b[0;34m)\u001b[0m\u001b[0;34m)\u001b[0m\u001b[0;34m:\u001b[0m\u001b[0;34m\u001b[0m\u001b[0;34m\u001b[0m\u001b[0m\n\u001b[1;32m   2671\u001b[0m             \u001b[0mvalues\u001b[0m \u001b[0;34m=\u001b[0m \u001b[0mvalues\u001b[0m\u001b[0;34m.\u001b[0m\u001b[0m_values\u001b[0m\u001b[0;34m\u001b[0m\u001b[0;34m\u001b[0m\u001b[0m\n",
            "\u001b[0;32m/usr/local/lib/python3.6/dist-packages/pandas/core/dtypes/common.py\u001b[0m in \u001b[0;36mis_categorical\u001b[0;34m(arr)\u001b[0m\n\u001b[1;32m    289\u001b[0m     \"\"\"\n\u001b[1;32m    290\u001b[0m \u001b[0;34m\u001b[0m\u001b[0m\n\u001b[0;32m--> 291\u001b[0;31m     \u001b[0;32mreturn\u001b[0m \u001b[0misinstance\u001b[0m\u001b[0;34m(\u001b[0m\u001b[0marr\u001b[0m\u001b[0;34m,\u001b[0m \u001b[0mABCCategorical\u001b[0m\u001b[0;34m)\u001b[0m \u001b[0;32mor\u001b[0m \u001b[0mis_categorical_dtype\u001b[0m\u001b[0;34m(\u001b[0m\u001b[0marr\u001b[0m\u001b[0;34m)\u001b[0m\u001b[0;34m\u001b[0m\u001b[0;34m\u001b[0m\u001b[0m\n\u001b[0m\u001b[1;32m    292\u001b[0m \u001b[0;34m\u001b[0m\u001b[0m\n\u001b[1;32m    293\u001b[0m \u001b[0;34m\u001b[0m\u001b[0m\n",
            "\u001b[0;32m/usr/local/lib/python3.6/dist-packages/pandas/core/dtypes/generic.py\u001b[0m in \u001b[0;36m_check\u001b[0;34m(cls, inst)\u001b[0m\n\u001b[1;32m      7\u001b[0m     \u001b[0;34m@\u001b[0m\u001b[0mclassmethod\u001b[0m\u001b[0;34m\u001b[0m\u001b[0;34m\u001b[0m\u001b[0m\n\u001b[1;32m      8\u001b[0m     \u001b[0;32mdef\u001b[0m \u001b[0m_check\u001b[0m\u001b[0;34m(\u001b[0m\u001b[0mcls\u001b[0m\u001b[0;34m,\u001b[0m \u001b[0minst\u001b[0m\u001b[0;34m)\u001b[0m\u001b[0;34m:\u001b[0m\u001b[0;34m\u001b[0m\u001b[0;34m\u001b[0m\u001b[0m\n\u001b[0;32m----> 9\u001b[0;31m         \u001b[0;32mreturn\u001b[0m \u001b[0mgetattr\u001b[0m\u001b[0;34m(\u001b[0m\u001b[0minst\u001b[0m\u001b[0;34m,\u001b[0m \u001b[0mattr\u001b[0m\u001b[0;34m,\u001b[0m \u001b[0;34m'_typ'\u001b[0m\u001b[0;34m)\u001b[0m \u001b[0;32min\u001b[0m \u001b[0mcomp\u001b[0m\u001b[0;34m\u001b[0m\u001b[0;34m\u001b[0m\u001b[0m\n\u001b[0m\u001b[1;32m     10\u001b[0m \u001b[0;34m\u001b[0m\u001b[0m\n\u001b[1;32m     11\u001b[0m     \u001b[0mdct\u001b[0m \u001b[0;34m=\u001b[0m \u001b[0mdict\u001b[0m\u001b[0;34m(\u001b[0m\u001b[0m__instancecheck__\u001b[0m\u001b[0;34m=\u001b[0m\u001b[0m_check\u001b[0m\u001b[0;34m,\u001b[0m \u001b[0m__subclasscheck__\u001b[0m\u001b[0;34m=\u001b[0m\u001b[0m_check\u001b[0m\u001b[0;34m)\u001b[0m\u001b[0;34m\u001b[0m\u001b[0;34m\u001b[0m\u001b[0m\n",
            "\u001b[0;31mTypeError\u001b[0m: 'in <string>' requires string as left operand, not NoneType"
          ]
        }
      ]
    }
  ]
}