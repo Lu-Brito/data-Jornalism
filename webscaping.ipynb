{
  "nbformat": 4,
  "nbformat_minor": 0,
  "metadata": {
    "colab": {
      "name": "Untitled2.ipynb",
      "version": "0.3.2",
      "provenance": [],
      "include_colab_link": true
    },
    "kernelspec": {
      "name": "python3",
      "display_name": "Python 3"
    }
  },
  "cells": [
    {
      "cell_type": "markdown",
      "metadata": {
        "id": "view-in-github",
        "colab_type": "text"
      },
      "source": [
        "<a href=\"https://colab.research.google.com/github/Lu-Brito/data-Jornalism/blob/master/webscaping.ipynb\" target=\"_parent\"><img src=\"https://colab.research.google.com/assets/colab-badge.svg\" alt=\"Open In Colab\"/></a>"
      ]
    },
    {
      "cell_type": "markdown",
      "metadata": {
        "id": "-tKvdlIYlFC7",
        "colab_type": "text"
      },
      "source": [
        "**Web Scraping with Beautiful Soup**\n"
      ]
    },
    {
      "cell_type": "code",
      "metadata": {
        "id": "kgHVxOafk5eQ",
        "colab_type": "code",
        "colab": {}
      },
      "source": [
        "import requests\n",
        "# importação feita logo após o código webpage = webpage_response.content\n",
        "from bs4 import BeautifulSoup"
      ],
      "execution_count": 0,
      "outputs": []
    },
    {
      "cell_type": "code",
      "metadata": {
        "id": "vDbDNnHRk_VS",
        "colab_type": "code",
        "colab": {
          "base_uri": "https://localhost:8080/",
          "height": 1210
        },
        "outputId": "3c019d8f-1dc4-42ed-ecc0-2155eaab9d76"
      },
      "source": [
        "webpage_response = requests.get('https://s3.amazonaws.com/codecademy-content/courses/beautifulsoup/shellter.html')\n",
        "print(webpage_response.text)\n",
        "webpage = webpage_response.content\n",
        "print(webpage) "
      ],
      "execution_count": 2,
      "outputs": [
        {
          "output_type": "stream",
          "text": [
            "<!DOCTYPE html>\n",
            "<html>\n",
            "  <head>\n",
            "    <meta charset=\"utf-8\">\n",
            "    <title>Turtle Shellter</title>\n",
            "      <link href=\"https://fonts.googleapis.com/css?family=Poppins\" rel=\"stylesheet\">\n",
            "      <link rel='stylesheet' type='text/css' href='style.css'>\n",
            "  </head>\n",
            "\n",
            "  <body>\n",
            "      <div class=\"banner\">\n",
            "        <h1>The Shellter</h1>\n",
            "        <span class=\"brag\">The #1 Turtle Adoption website!</span>\n",
            "      </div>\n",
            "\n",
            "      <div class=\"about\">\n",
            "        <p class=\"text\">Click to learn more about each turtle</p>\n",
            "      </div>\n",
            "\n",
            "    <div class=\"grid\">\n",
            "      <div class=\"box adopt\">\n",
            "          <a href=\"aesop.html\" class=\"more-info\"><img src=\"aesop.png\" class=\"headshot\"></a>\n",
            "          <p>Aesop</p>\n",
            "      </div>\n",
            "\n",
            "      <div class=\"box adopt\">\n",
            "          <a href=\"caesar.html\" class=\"more-info\"><img src=\"caesar.png\" class=\"headshot\"></a>\n",
            "          <p>Caesar</p>\n",
            "      </div>\n",
            "\n",
            "      <div class=\"box adopt\">\n",
            "          <a href=\"sulla.html\" class=\"more-info\"><img src=\"sulla.png\" class=\"headshot\"></a>\n",
            "          <p>Sulla</p>\n",
            "      </div>\n",
            "      <div class=\"box adopt\">\n",
            "          <a href=\"spyro.html\" class=\"more-info\"><img src=\"spyro.png\" class=\"headshot\"></a>\n",
            "          <p>Spyro</p>\n",
            "      </div>\n",
            "\n",
            "      <div class=\"box adopt\">\n",
            "          <a href=\"zelda.html\" class=\"more-info\"><img src=\"zelda.png\" class=\"headshot\"></a>\n",
            "          <p>Zelda</p>\n",
            "      </div>\n",
            "\n",
            "      <div class=\"box adopt\">\n",
            "          <a href=\"bandicoot.html\" class=\"more-info\"><img src=\"bandicoot.png\" class=\"headshot\"></a>\n",
            "          <p>Bandicoot</p>\n",
            "      </div>\n",
            "      \n",
            "      <div class=\"box adopt\">\n",
            "          <a href=\"hal.html\" class=\"more-info\"><img src=\"hal.png\" class=\"headshot\"></a>\n",
            "          <p>Hal</p>\n",
            "      </div>\n",
            "\n",
            "      <div class=\"box adopt\">\n",
            "          <a href=\"mock.html\" class=\"more-info\"><img src=\"mock.png\" class=\"headshot\"></a>\n",
            "          <p>Mock</p>\n",
            "      </div>\n",
            "\n",
            "      <div class=\"box adopt\">\n",
            "          <a href=\"sparrow.html\" class=\"more-info\"><img src=\"sparrow.png\" class=\"headshot\"></a>\n",
            "          <p>Captain Sparrow</p>\n",
            "      </div>\n",
            "    </div>\n",
            "  </body>\n",
            "\n",
            "</html>\n",
            "\n",
            "b'<!DOCTYPE html>\\n<html>\\n  <head>\\n    <meta charset=\"utf-8\">\\n    <title>Turtle Shellter</title>\\n      <link href=\"https://fonts.googleapis.com/css?family=Poppins\" rel=\"stylesheet\">\\n      <link rel=\\'stylesheet\\' type=\\'text/css\\' href=\\'style.css\\'>\\n  </head>\\n\\n  <body>\\n      <div class=\"banner\">\\n        <h1>The Shellter</h1>\\n        <span class=\"brag\">The #1 Turtle Adoption website!</span>\\n      </div>\\n\\n      <div class=\"about\">\\n        <p class=\"text\">Click to learn more about each turtle</p>\\n      </div>\\n\\n    <div class=\"grid\">\\n      <div class=\"box adopt\">\\n          <a href=\"aesop.html\" class=\"more-info\"><img src=\"aesop.png\" class=\"headshot\"></a>\\n          <p>Aesop</p>\\n      </div>\\n\\n      <div class=\"box adopt\">\\n          <a href=\"caesar.html\" class=\"more-info\"><img src=\"caesar.png\" class=\"headshot\"></a>\\n          <p>Caesar</p>\\n      </div>\\n\\n      <div class=\"box adopt\">\\n          <a href=\"sulla.html\" class=\"more-info\"><img src=\"sulla.png\" class=\"headshot\"></a>\\n          <p>Sulla</p>\\n      </div>\\n      <div class=\"box adopt\">\\n          <a href=\"spyro.html\" class=\"more-info\"><img src=\"spyro.png\" class=\"headshot\"></a>\\n          <p>Spyro</p>\\n      </div>\\n\\n      <div class=\"box adopt\">\\n          <a href=\"zelda.html\" class=\"more-info\"><img src=\"zelda.png\" class=\"headshot\"></a>\\n          <p>Zelda</p>\\n      </div>\\n\\n      <div class=\"box adopt\">\\n          <a href=\"bandicoot.html\" class=\"more-info\"><img src=\"bandicoot.png\" class=\"headshot\"></a>\\n          <p>Bandicoot</p>\\n      </div>\\n      \\n      <div class=\"box adopt\">\\n          <a href=\"hal.html\" class=\"more-info\"><img src=\"hal.png\" class=\"headshot\"></a>\\n          <p>Hal</p>\\n      </div>\\n\\n      <div class=\"box adopt\">\\n          <a href=\"mock.html\" class=\"more-info\"><img src=\"mock.png\" class=\"headshot\"></a>\\n          <p>Mock</p>\\n      </div>\\n\\n      <div class=\"box adopt\">\\n          <a href=\"sparrow.html\" class=\"more-info\"><img src=\"sparrow.png\" class=\"headshot\"></a>\\n          <p>Captain Sparrow</p>\\n      </div>\\n    </div>\\n  </body>\\n\\n</html>\\n'\n"
          ],
          "name": "stdout"
        }
      ]
    },
    {
      "cell_type": "markdown",
      "metadata": {
        "id": "t7-3UFHZl_UC",
        "colab_type": "text"
      },
      "source": [
        "When we printed out all of that HTML from our request, it seemed pretty long and messy. How could we pull out the relevant information from that long string?\n",
        "\n",
        "Then, all we have to do is convert the HTML document to a BeautifulSoup object!\n",
        "\n",
        "\"html.parser\" is one option for parsers we could use. There are other options, like \"lxml\" and \"html5lib\" that have different advantages and disadvantages, but for our purposes we will be using \"html.parser\" throughout.\n",
        "\n",
        "With the requests skills we just learned, we can use a website hosted online as that HTML:"
      ]
    },
    {
      "cell_type": "code",
      "metadata": {
        "id": "PN80pZPvmCtN",
        "colab_type": "code",
        "colab": {
          "base_uri": "https://localhost:8080/",
          "height": 1003
        },
        "outputId": "762bc059-2b3b-44e1-ee6d-20bb26a2bf9e"
      },
      "source": [
        "# cria um objeto chamado soup\n",
        "soup = BeautifulSoup(webpage, \"html.parser\")\n",
        "\n",
        "print(soup)"
      ],
      "execution_count": 8,
      "outputs": [
        {
          "output_type": "stream",
          "text": [
            "<!DOCTYPE html>\n",
            "\n",
            "<html>\n",
            "<head>\n",
            "<meta charset=\"utf-8\"/>\n",
            "<title>Turtle Shellter</title>\n",
            "<link href=\"https://fonts.googleapis.com/css?family=Poppins\" rel=\"stylesheet\"/>\n",
            "<link href=\"style.css\" rel=\"stylesheet\" type=\"text/css\"/>\n",
            "</head>\n",
            "<body>\n",
            "<div class=\"banner\">\n",
            "<h1>The Shellter</h1>\n",
            "<span class=\"brag\">The #1 Turtle Adoption website!</span>\n",
            "</div>\n",
            "<div class=\"about\">\n",
            "<p class=\"text\">Click to learn more about each turtle</p>\n",
            "</div>\n",
            "<div class=\"grid\">\n",
            "<div class=\"box adopt\">\n",
            "<a class=\"more-info\" href=\"aesop.html\"><img class=\"headshot\" src=\"aesop.png\"/></a>\n",
            "<p>Aesop</p>\n",
            "</div>\n",
            "<div class=\"box adopt\">\n",
            "<a class=\"more-info\" href=\"caesar.html\"><img class=\"headshot\" src=\"caesar.png\"/></a>\n",
            "<p>Caesar</p>\n",
            "</div>\n",
            "<div class=\"box adopt\">\n",
            "<a class=\"more-info\" href=\"sulla.html\"><img class=\"headshot\" src=\"sulla.png\"/></a>\n",
            "<p>Sulla</p>\n",
            "</div>\n",
            "<div class=\"box adopt\">\n",
            "<a class=\"more-info\" href=\"spyro.html\"><img class=\"headshot\" src=\"spyro.png\"/></a>\n",
            "<p>Spyro</p>\n",
            "</div>\n",
            "<div class=\"box adopt\">\n",
            "<a class=\"more-info\" href=\"zelda.html\"><img class=\"headshot\" src=\"zelda.png\"/></a>\n",
            "<p>Zelda</p>\n",
            "</div>\n",
            "<div class=\"box adopt\">\n",
            "<a class=\"more-info\" href=\"bandicoot.html\"><img class=\"headshot\" src=\"bandicoot.png\"/></a>\n",
            "<p>Bandicoot</p>\n",
            "</div>\n",
            "<div class=\"box adopt\">\n",
            "<a class=\"more-info\" href=\"hal.html\"><img class=\"headshot\" src=\"hal.png\"/></a>\n",
            "<p>Hal</p>\n",
            "</div>\n",
            "<div class=\"box adopt\">\n",
            "<a class=\"more-info\" href=\"mock.html\"><img class=\"headshot\" src=\"mock.png\"/></a>\n",
            "<p>Mock</p>\n",
            "</div>\n",
            "<div class=\"box adopt\">\n",
            "<a class=\"more-info\" href=\"sparrow.html\"><img class=\"headshot\" src=\"sparrow.png\"/></a>\n",
            "<p>Captain Sparrow</p>\n",
            "</div>\n",
            "</div>\n",
            "</body>\n",
            "</html>\n",
            "\n"
          ],
          "name": "stdout"
        }
      ]
    },
    {
      "cell_type": "code",
      "metadata": {
        "id": "U29Dg4bXo2B4",
        "colab_type": "code",
        "colab": {
          "base_uri": "https://localhost:8080/",
          "height": 51
        },
        "outputId": "5ee1e876-57d7-4194-fd73-abfdcffd6a3a"
      },
      "source": [
        "print(soup.p)\n",
        "print(soup.p.string)"
      ],
      "execution_count": 7,
      "outputs": [
        {
          "output_type": "stream",
          "text": [
            "<p class=\"text\">Click to learn more about each turtle</p>\n",
            "Click to learn more about each turtle\n"
          ],
          "name": "stdout"
        }
      ]
    },
    {
      "cell_type": "code",
      "metadata": {
        "id": "5jmeW3rQlYbo",
        "colab_type": "code",
        "colab": {}
      },
      "source": [
        ""
      ],
      "execution_count": 0,
      "outputs": []
    }
  ]
}