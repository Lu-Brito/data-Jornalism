{
  "nbformat": 4,
  "nbformat_minor": 0,
  "metadata": {
    "colab": {
      "name": "BeautifulSoup.ipynb",
      "version": "0.3.2",
      "provenance": [],
      "include_colab_link": true
    },
    "kernelspec": {
      "name": "python3",
      "display_name": "Python 3"
    }
  },
  "cells": [
    {
      "cell_type": "markdown",
      "metadata": {
        "id": "view-in-github",
        "colab_type": "text"
      },
      "source": [
        "<a href=\"https://colab.research.google.com/github/Lu-Brito/data-Jornalism/blob/master/BeautifulSoup.ipynb\" target=\"_parent\"><img src=\"https://colab.research.google.com/assets/colab-badge.svg\" alt=\"Open In Colab\"/></a>"
      ]
    },
    {
      "cell_type": "markdown",
      "metadata": {
        "id": "-tKvdlIYlFC7",
        "colab_type": "text"
      },
      "source": [
        "**Web Scraping with Beautiful Soup**\n"
      ]
    },
    {
      "cell_type": "code",
      "metadata": {
        "id": "kgHVxOafk5eQ",
        "colab_type": "code",
        "colab": {}
      },
      "source": [
        "import requests\n",
        "# importação feita logo após o código webpage = webpage_response.content\n",
        "from bs4 import BeautifulSoup"
      ],
      "execution_count": 0,
      "outputs": []
    },
    {
      "cell_type": "code",
      "metadata": {
        "id": "vDbDNnHRk_VS",
        "colab_type": "code",
        "colab": {
          "base_uri": "https://localhost:8080/",
          "height": 1210
        },
        "outputId": "9756a0b4-1223-46b6-8ea3-22b3d53fe08f"
      },
      "source": [
        "prefix = \"https://s3.amazonaws.com/codecademy-content/courses/beautifulsoup/\"\n",
        "webpage_response = requests.get('https://s3.amazonaws.com/codecademy-content/courses/beautifulsoup/shellter.html')\n",
        "print(webpage_response.text)\n",
        "webpage = webpage_response.content\n",
        "print(webpage) "
      ],
      "execution_count": 15,
      "outputs": [
        {
          "output_type": "stream",
          "text": [
            "<!DOCTYPE html>\n",
            "<html>\n",
            "  <head>\n",
            "    <meta charset=\"utf-8\">\n",
            "    <title>Turtle Shellter</title>\n",
            "      <link href=\"https://fonts.googleapis.com/css?family=Poppins\" rel=\"stylesheet\">\n",
            "      <link rel='stylesheet' type='text/css' href='style.css'>\n",
            "  </head>\n",
            "\n",
            "  <body>\n",
            "      <div class=\"banner\">\n",
            "        <h1>The Shellter</h1>\n",
            "        <span class=\"brag\">The #1 Turtle Adoption website!</span>\n",
            "      </div>\n",
            "\n",
            "      <div class=\"about\">\n",
            "        <p class=\"text\">Click to learn more about each turtle</p>\n",
            "      </div>\n",
            "\n",
            "    <div class=\"grid\">\n",
            "      <div class=\"box adopt\">\n",
            "          <a href=\"aesop.html\" class=\"more-info\"><img src=\"aesop.png\" class=\"headshot\"></a>\n",
            "          <p>Aesop</p>\n",
            "      </div>\n",
            "\n",
            "      <div class=\"box adopt\">\n",
            "          <a href=\"caesar.html\" class=\"more-info\"><img src=\"caesar.png\" class=\"headshot\"></a>\n",
            "          <p>Caesar</p>\n",
            "      </div>\n",
            "\n",
            "      <div class=\"box adopt\">\n",
            "          <a href=\"sulla.html\" class=\"more-info\"><img src=\"sulla.png\" class=\"headshot\"></a>\n",
            "          <p>Sulla</p>\n",
            "      </div>\n",
            "      <div class=\"box adopt\">\n",
            "          <a href=\"spyro.html\" class=\"more-info\"><img src=\"spyro.png\" class=\"headshot\"></a>\n",
            "          <p>Spyro</p>\n",
            "      </div>\n",
            "\n",
            "      <div class=\"box adopt\">\n",
            "          <a href=\"zelda.html\" class=\"more-info\"><img src=\"zelda.png\" class=\"headshot\"></a>\n",
            "          <p>Zelda</p>\n",
            "      </div>\n",
            "\n",
            "      <div class=\"box adopt\">\n",
            "          <a href=\"bandicoot.html\" class=\"more-info\"><img src=\"bandicoot.png\" class=\"headshot\"></a>\n",
            "          <p>Bandicoot</p>\n",
            "      </div>\n",
            "      \n",
            "      <div class=\"box adopt\">\n",
            "          <a href=\"hal.html\" class=\"more-info\"><img src=\"hal.png\" class=\"headshot\"></a>\n",
            "          <p>Hal</p>\n",
            "      </div>\n",
            "\n",
            "      <div class=\"box adopt\">\n",
            "          <a href=\"mock.html\" class=\"more-info\"><img src=\"mock.png\" class=\"headshot\"></a>\n",
            "          <p>Mock</p>\n",
            "      </div>\n",
            "\n",
            "      <div class=\"box adopt\">\n",
            "          <a href=\"sparrow.html\" class=\"more-info\"><img src=\"sparrow.png\" class=\"headshot\"></a>\n",
            "          <p>Captain Sparrow</p>\n",
            "      </div>\n",
            "    </div>\n",
            "  </body>\n",
            "\n",
            "</html>\n",
            "\n",
            "b'<!DOCTYPE html>\\n<html>\\n  <head>\\n    <meta charset=\"utf-8\">\\n    <title>Turtle Shellter</title>\\n      <link href=\"https://fonts.googleapis.com/css?family=Poppins\" rel=\"stylesheet\">\\n      <link rel=\\'stylesheet\\' type=\\'text/css\\' href=\\'style.css\\'>\\n  </head>\\n\\n  <body>\\n      <div class=\"banner\">\\n        <h1>The Shellter</h1>\\n        <span class=\"brag\">The #1 Turtle Adoption website!</span>\\n      </div>\\n\\n      <div class=\"about\">\\n        <p class=\"text\">Click to learn more about each turtle</p>\\n      </div>\\n\\n    <div class=\"grid\">\\n      <div class=\"box adopt\">\\n          <a href=\"aesop.html\" class=\"more-info\"><img src=\"aesop.png\" class=\"headshot\"></a>\\n          <p>Aesop</p>\\n      </div>\\n\\n      <div class=\"box adopt\">\\n          <a href=\"caesar.html\" class=\"more-info\"><img src=\"caesar.png\" class=\"headshot\"></a>\\n          <p>Caesar</p>\\n      </div>\\n\\n      <div class=\"box adopt\">\\n          <a href=\"sulla.html\" class=\"more-info\"><img src=\"sulla.png\" class=\"headshot\"></a>\\n          <p>Sulla</p>\\n      </div>\\n      <div class=\"box adopt\">\\n          <a href=\"spyro.html\" class=\"more-info\"><img src=\"spyro.png\" class=\"headshot\"></a>\\n          <p>Spyro</p>\\n      </div>\\n\\n      <div class=\"box adopt\">\\n          <a href=\"zelda.html\" class=\"more-info\"><img src=\"zelda.png\" class=\"headshot\"></a>\\n          <p>Zelda</p>\\n      </div>\\n\\n      <div class=\"box adopt\">\\n          <a href=\"bandicoot.html\" class=\"more-info\"><img src=\"bandicoot.png\" class=\"headshot\"></a>\\n          <p>Bandicoot</p>\\n      </div>\\n      \\n      <div class=\"box adopt\">\\n          <a href=\"hal.html\" class=\"more-info\"><img src=\"hal.png\" class=\"headshot\"></a>\\n          <p>Hal</p>\\n      </div>\\n\\n      <div class=\"box adopt\">\\n          <a href=\"mock.html\" class=\"more-info\"><img src=\"mock.png\" class=\"headshot\"></a>\\n          <p>Mock</p>\\n      </div>\\n\\n      <div class=\"box adopt\">\\n          <a href=\"sparrow.html\" class=\"more-info\"><img src=\"sparrow.png\" class=\"headshot\"></a>\\n          <p>Captain Sparrow</p>\\n      </div>\\n    </div>\\n  </body>\\n\\n</html>\\n'\n"
          ],
          "name": "stdout"
        }
      ]
    },
    {
      "cell_type": "markdown",
      "metadata": {
        "id": "t7-3UFHZl_UC",
        "colab_type": "text"
      },
      "source": [
        "When we printed out all of that HTML from our request, it seemed pretty long and messy. How could we pull out the relevant information from that long string?\n",
        "\n",
        "Then, all we have to do is convert the HTML document to a BeautifulSoup object!\n",
        "\n",
        "\"html.parser\" is one option for parsers we could use. There are other options, like \"lxml\" and \"html5lib\" that have different advantages and disadvantages, but for our purposes we will be using \"html.parser\" throughout.\n",
        "\n",
        "With the requests skills we just learned, we can use a website hosted online as that HTML:"
      ]
    },
    {
      "cell_type": "code",
      "metadata": {
        "id": "PN80pZPvmCtN",
        "colab_type": "code",
        "colab": {
          "base_uri": "https://localhost:8080/",
          "height": 1003
        },
        "outputId": "3d5b1470-e396-474c-fa05-61d714f9a488"
      },
      "source": [
        "# cria um objeto chamado soup\n",
        "soup = BeautifulSoup(webpage, \"html.parser\")\n",
        "\n",
        "print(soup)"
      ],
      "execution_count": 16,
      "outputs": [
        {
          "output_type": "stream",
          "text": [
            "<!DOCTYPE html>\n",
            "\n",
            "<html>\n",
            "<head>\n",
            "<meta charset=\"utf-8\"/>\n",
            "<title>Turtle Shellter</title>\n",
            "<link href=\"https://fonts.googleapis.com/css?family=Poppins\" rel=\"stylesheet\"/>\n",
            "<link href=\"style.css\" rel=\"stylesheet\" type=\"text/css\"/>\n",
            "</head>\n",
            "<body>\n",
            "<div class=\"banner\">\n",
            "<h1>The Shellter</h1>\n",
            "<span class=\"brag\">The #1 Turtle Adoption website!</span>\n",
            "</div>\n",
            "<div class=\"about\">\n",
            "<p class=\"text\">Click to learn more about each turtle</p>\n",
            "</div>\n",
            "<div class=\"grid\">\n",
            "<div class=\"box adopt\">\n",
            "<a class=\"more-info\" href=\"aesop.html\"><img class=\"headshot\" src=\"aesop.png\"/></a>\n",
            "<p>Aesop</p>\n",
            "</div>\n",
            "<div class=\"box adopt\">\n",
            "<a class=\"more-info\" href=\"caesar.html\"><img class=\"headshot\" src=\"caesar.png\"/></a>\n",
            "<p>Caesar</p>\n",
            "</div>\n",
            "<div class=\"box adopt\">\n",
            "<a class=\"more-info\" href=\"sulla.html\"><img class=\"headshot\" src=\"sulla.png\"/></a>\n",
            "<p>Sulla</p>\n",
            "</div>\n",
            "<div class=\"box adopt\">\n",
            "<a class=\"more-info\" href=\"spyro.html\"><img class=\"headshot\" src=\"spyro.png\"/></a>\n",
            "<p>Spyro</p>\n",
            "</div>\n",
            "<div class=\"box adopt\">\n",
            "<a class=\"more-info\" href=\"zelda.html\"><img class=\"headshot\" src=\"zelda.png\"/></a>\n",
            "<p>Zelda</p>\n",
            "</div>\n",
            "<div class=\"box adopt\">\n",
            "<a class=\"more-info\" href=\"bandicoot.html\"><img class=\"headshot\" src=\"bandicoot.png\"/></a>\n",
            "<p>Bandicoot</p>\n",
            "</div>\n",
            "<div class=\"box adopt\">\n",
            "<a class=\"more-info\" href=\"hal.html\"><img class=\"headshot\" src=\"hal.png\"/></a>\n",
            "<p>Hal</p>\n",
            "</div>\n",
            "<div class=\"box adopt\">\n",
            "<a class=\"more-info\" href=\"mock.html\"><img class=\"headshot\" src=\"mock.png\"/></a>\n",
            "<p>Mock</p>\n",
            "</div>\n",
            "<div class=\"box adopt\">\n",
            "<a class=\"more-info\" href=\"sparrow.html\"><img class=\"headshot\" src=\"sparrow.png\"/></a>\n",
            "<p>Captain Sparrow</p>\n",
            "</div>\n",
            "</div>\n",
            "</body>\n",
            "</html>\n",
            "\n"
          ],
          "name": "stdout"
        }
      ]
    },
    {
      "cell_type": "code",
      "metadata": {
        "id": "U29Dg4bXo2B4",
        "colab_type": "code",
        "colab": {
          "base_uri": "https://localhost:8080/",
          "height": 51
        },
        "outputId": "ac94965d-2143-4270-b8bf-57b311b26474"
      },
      "source": [
        "print(soup.p)\n",
        "print(soup.p.string)\n",
        "\n"
      ],
      "execution_count": 17,
      "outputs": [
        {
          "output_type": "stream",
          "text": [
            "<p class=\"text\">Click to learn more about each turtle</p>\n",
            "Click to learn more about each turtle\n"
          ],
          "name": "stdout"
        }
      ]
    },
    {
      "cell_type": "code",
      "metadata": {
        "id": "5jmeW3rQlYbo",
        "colab_type": "code",
        "colab": {
          "base_uri": "https://localhost:8080/",
          "height": 85
        },
        "outputId": "15d20263-cfb0-4139-be4f-b2fa57877150"
      },
      "source": [
        "# para navegar sobre cada uma das tags da página, você precisa printar como print(object.tag)\n",
        "\n",
        "print(soup.div)"
      ],
      "execution_count": 18,
      "outputs": [
        {
          "output_type": "stream",
          "text": [
            "<div class=\"banner\">\n",
            "<h1>The Shellter</h1>\n",
            "<span class=\"brag\">The #1 Turtle Adoption website!</span>\n",
            "</div>\n"
          ],
          "name": "stdout"
        }
      ]
    },
    {
      "cell_type": "markdown",
      "metadata": {
        "id": "n1pYvQI6xrQ_",
        "colab_type": "text"
      },
      "source": [
        "Hora de inspecionar a página para saber o que há nela, antes de fazer o webscraping\n"
      ]
    },
    {
      "cell_type": "code",
      "metadata": {
        "id": "ys27-YcuxxYW",
        "colab_type": "code",
        "colab": {
          "base_uri": "https://localhost:8080/",
          "height": 54
        },
        "outputId": "614ea7e5-898e-4ad1-eac9-0a4657ac4ba7"
      },
      "source": [
        "# usando a função .findall() para encontrar todos os elementos que estão sob a tag <a>\n",
        "turtle_links = soup.find_all(\"a\")\n",
        "print(turtle_links)"
      ],
      "execution_count": 19,
      "outputs": [
        {
          "output_type": "stream",
          "text": [
            "[<a class=\"more-info\" href=\"aesop.html\"><img class=\"headshot\" src=\"aesop.png\"/></a>, <a class=\"more-info\" href=\"caesar.html\"><img class=\"headshot\" src=\"caesar.png\"/></a>, <a class=\"more-info\" href=\"sulla.html\"><img class=\"headshot\" src=\"sulla.png\"/></a>, <a class=\"more-info\" href=\"spyro.html\"><img class=\"headshot\" src=\"spyro.png\"/></a>, <a class=\"more-info\" href=\"zelda.html\"><img class=\"headshot\" src=\"zelda.png\"/></a>, <a class=\"more-info\" href=\"bandicoot.html\"><img class=\"headshot\" src=\"bandicoot.png\"/></a>, <a class=\"more-info\" href=\"hal.html\"><img class=\"headshot\" src=\"hal.png\"/></a>, <a class=\"more-info\" href=\"mock.html\"><img class=\"headshot\" src=\"mock.png\"/></a>, <a class=\"more-info\" href=\"sparrow.html\"><img class=\"headshot\" src=\"sparrow.png\"/></a>]\n"
          ],
          "name": "stdout"
        }
      ]
    },
    {
      "cell_type": "code",
      "metadata": {
        "id": "z_SIFP-g4ili",
        "colab_type": "code",
        "colab": {
          "base_uri": "https://localhost:8080/",
          "height": 54
        },
        "outputId": "833a6426-e83c-4620-8d80-bb43713a72e8"
      },
      "source": [
        "# usando a função .select() para selecionar todos os seletores de css\n",
        "links = []\n",
        "#go through all of the a tags and get the links associated with them:\n",
        "for a in turtle_links:\n",
        "  links.append(prefix+a[\"href\"])\n",
        " \n",
        "# Define turtle_data:\n",
        "turtle_data = {}\n",
        "\n",
        "#follow each link:\n",
        "for link in links:\n",
        "  webpage = requests.get(link)\n",
        "  turtle = BeautifulSoup(webpage.content, \"html.parser\")\n",
        "  \n",
        "  turtle_name = turtle.select(\".name\")[0]\n",
        "  turtle_data[turtle_name] = []\n",
        "  \n",
        "print(turtle_data)"
      ],
      "execution_count": 23,
      "outputs": [
        {
          "output_type": "stream",
          "text": [
            "{<p class=\"name\">Aesop</p>: [], <p class=\"name\">Caesar</p>: [], <p class=\"name\">Sulla</p>: [], <p class=\"name\">Spyro</p>: [], <p class=\"name\">Zelda</p>: [], <p class=\"name\">Bandicoot</p>: [], <p class=\"name\">Hal</p>: [], <p class=\"name\">Mock</p>: [], <p class=\"name\">Sparrow</p>: []}\n"
          ],
          "name": "stdout"
        }
      ]
    }
  ]
}